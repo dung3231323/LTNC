{
  "nbformat": 4,
  "nbformat_minor": 0,
  "metadata": {
    "colab": {
      "provenance": [],
      "toc_visible": true,
      "authorship_tag": "ABX9TyP3fbY4zuQDmkp+Kui3J31Y",
      "include_colab_link": true
    },
    "kernelspec": {
      "name": "python3",
      "display_name": "Python 3"
    },
    "language_info": {
      "name": "python"
    }
  },
  "cells": [
    {
      "cell_type": "markdown",
      "metadata": {
        "id": "view-in-github",
        "colab_type": "text"
      },
      "source": [
        "<a href=\"https://colab.research.google.com/github/dung3231323/LTNC/blob/main/final.ipynb\" target=\"_parent\"><img src=\"https://colab.research.google.com/assets/colab-badge.svg\" alt=\"Open In Colab\"/></a>"
      ]
    },
    {
      "cell_type": "code",
      "execution_count": 2,
      "metadata": {
        "colab": {
          "base_uri": "https://localhost:8080/"
        },
        "id": "etJ7n6lf_irL",
        "outputId": "8c250b7c-c8b8-40f5-cc9c-33afe5abe8c6"
      },
      "outputs": [
        {
          "output_type": "stream",
          "name": "stdout",
          "text": [
            "SELECT * from Countries_by_GDP WHERE GDP_USD_billions >= 100\n",
            "          Country  GDP_USD_billions\n",
            "0   United States          26854.60\n",
            "1           China          19373.59\n",
            "2           Japan           4409.74\n",
            "3         Germany           4308.85\n",
            "4           India           3736.88\n",
            "..            ...               ...\n",
            "64          Kenya            118.13\n",
            "65         Angola            117.88\n",
            "66           Oman            104.90\n",
            "67      Guatemala            102.31\n",
            "68       Bulgaria            100.64\n",
            "\n",
            "[69 rows x 2 columns]\n"
          ]
        }
      ],
      "source": [
        "import pandas as pd\n",
        "import requests\n",
        "from bs4 import BeautifulSoup\n",
        "import sqlite3\n",
        "from datetime import datetime\n",
        "import numpy as np\n",
        "\n",
        "url = 'https://web.archive.org/web/20230902185326/https://en.wikipedia.org/wiki/List_of_countries_by_GDP_%28nominal%29'\n",
        "table_name = 'Countries_by_GDP'\n",
        "csvfile = 'Countries_by_GDP.csv'\n",
        "table_attribs = [\"Country\", \"GDP_USD_millions\"]\n",
        "conn = sqlite3.connect('World_Economies.db')\n",
        "\n",
        "def extract (url, table_attrbs):\n",
        "    response = requests.get(url)\n",
        "    data = BeautifulSoup(response.content, 'html.parser')\n",
        "    tables = data.find_all('tbody')\n",
        "    rows = tables[2].find_all('tr')\n",
        "    df = pd.DataFrame(columns = table_attrbs)\n",
        "    for row in rows:\n",
        "        col = row.find_all('td')\n",
        "        if len(col)!=0:\n",
        "            if col[0].find('a') is not None and '—' not in col[2]:\n",
        "                data_dict = {\"Country\": col[0].a.contents[0],\n",
        "                             \"GDP_USD_millions\": col[2].contents[0]}\n",
        "                df1 = pd.DataFrame(data_dict, index=[0])\n",
        "                df = pd.concat([df,df1], ignore_index=True)\n",
        "    return df\n",
        "\n",
        "def transform(df):\n",
        "    GDP_list = df[\"GDP_USD_millions\"].tolist()\n",
        "    GDP_list = [float(\"\".join(x.split(','))) for x in GDP_list]\n",
        "    GDP_list = [np.round(x/1000,2) for x in GDP_list]\n",
        "    df[\"GDP_USD_millions\"] = GDP_list\n",
        "    df=df.rename(columns = {\"GDP_USD_millions\":\"GDP_USD_billions\"})\n",
        "    return df\n",
        "\n",
        "def load_to_csv(df, csvfile):\n",
        "    df.to_csv(csvfile)\n",
        "\n",
        "def load_to_db(df, sql_connection, table_name):\n",
        "    df.to_sql(table_name, sql_connection, if_exists='replace', index=False)\n",
        "\n",
        "def run_query(query_statement, sql_connection):\n",
        "    print(query_statement)\n",
        "    query_output = pd.read_sql(query_statement, sql_connection)\n",
        "    print(query_output)\n",
        "\n",
        "def log_progress(message):\n",
        "    timestamp_format = '%Y-%h-%d-%H:%M:%S' # Year-Monthname-Day-Hour-Minute-Second\n",
        "    now = datetime.now() # get current timestamp\n",
        "    timestamp = now.strftime(timestamp_format)\n",
        "    with open(\"./etl_project_log.txt\",\"a\") as f:\n",
        "        f.write(timestamp + ' : ' + message + '\\n')\n",
        "\n",
        "log_progress('Preliminaries complete. Initiating ETL process')\n",
        "df = extract(url, table_attribs)\n",
        "log_progress('Data extraction complete. Initiating Transformation process')\n",
        "df = transform(df)\n",
        "log_progress('Data transformation complete. Initiating loading process')\n",
        "load_to_csv(df, csvfile)\n",
        "log_progress('Data saved to CSV file')\n",
        "sql_connection = sqlite3.connect('World_Economies.db')\n",
        "log_progress('SQL Connection initiated.')\n",
        "load_to_db(df, sql_connection, table_name)\n",
        "log_progress('Data loaded to Database as table. Running the query')\n",
        "query_statement = f\"SELECT * from {table_name} WHERE GDP_USD_billions >= 100\"\n",
        "run_query(query_statement, sql_connection)\n",
        "log_progress('Process Complete.')\n",
        "sql_connection.close()\n",
        "\n"
      ]
    },
    {
      "cell_type": "markdown",
      "source": [
        "# Mục mới"
      ],
      "metadata": {
        "id": "qmFIN7dFAWYp"
      }
    }
  ]
}